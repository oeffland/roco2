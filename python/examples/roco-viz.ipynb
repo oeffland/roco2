{
 "cells": [
  {
   "cell_type": "code",
   "execution_count": 2,
   "metadata": {
    "pycharm": {
     "is_executing": false
    }
   },
   "outputs": [],
   "source": [
    "import os\n",
    "from glob import glob\n",
    "\n",
    "import pandas as pd\n",
    "import numpy as np\n",
    "import matplotlib as mpl\n",
    "import matplotlib.pyplot as plt\n",
    "    \n",
    "from IPython.display import Markdown, display\n",
    "from ipywidgets import interact, interactive, fixed\n",
    "import ipywidgets as widgets\n",
    "\n",
    "from sklearn.linear_model import Ridge\n",
    "from sklearn.preprocessing import PolynomialFeatures\n",
    "from sklearn.pipeline import make_pipeline\n",
    "\n",
    "import sys\n",
    "sys.path.append('..')\n",
    "from roco2 import color, marker, plot, Kernel"
   ]
  },
  {
   "cell_type": "code",
   "execution_count": 3,
   "metadata": {},
   "outputs": [],
   "source": [
    "import seaborn as sns\n",
    "sns.set_context(\"paper\")\n",
    "mpl.rcParams['figure.figsize'] = [8, 4]"
   ]
  },
  {
   "cell_type": "code",
   "execution_count": 4,
   "metadata": {
    "pycharm": {
     "is_executing": false
    }
   },
   "outputs": [],
   "source": [
    "\n",
    "#import pylab\n",
    "#pylab.rcParams['figure.figsize'] = (20,10)\n",
    "#pylab.rcParams['font.size'] = 20\n",
    "#pylab.rcParams['legend.fontsize'] = 20\n",
    "def printmd(string):\n",
    "    display(Markdown(string))"
   ]
  },
  {
   "cell_type": "code",
   "execution_count": 5,
   "metadata": {
    "pycharm": {
     "is_executing": false
    }
   },
   "outputs": [],
   "source": [
    "def old_kernel(n):\n",
    "    return {\n",
    "        0: Kernel.idle,\n",
    "        1: Kernel.sine,\n",
    "        2: Kernel.busywait,\n",
    "        3: Kernel.memory,\n",
    "        4: Kernel.compute,\n",
    "        5: Kernel.mulpd,\n",
    "        7: Kernel.matmul,\n",
    "        8: Kernel.sqrt,\n",
    "        9: Kernel.idle,\n",
    "        10: Kernel.addpd,\n",
    "        42: Kernel.firestarter\n",
    "    }[n]\n"
   ]
  },
  {
   "cell_type": "code",
   "execution_count": 7,
   "metadata": {
    "pycharm": {
     "is_executing": false
    }
   },
   "outputs": [
    {
     "data": {
      "application/vnd.jupyter.widget-view+json": {
       "model_id": "e61894cdeac54f95b4fb4f4404d3b9f1",
       "version_major": 2,
       "version_minor": 0
      },
      "text/plain": [
       "interactive(children=(Dropdown(description='filename', options=('/home/tilsche/diss/results/roco2/charon/outpu…"
      ]
     },
     "metadata": {},
     "output_type": "display_data"
    }
   ],
   "source": [
    "pp_dir = '/home/tilsche/diss/results/roco2/charon'\n",
    "filenames = sorted(glob(pp_dir + os.path.sep + '*.tsv'))\n",
    "filename_widget = widgets.Dropdown(options=filenames)\n",
    "power_patterns = {\n",
    "    'diana/watts': 'LMG reference measurement [W]',\n",
    "    'diana/s.*': 'HAEC reference measurement [W]',\n",
    "    'artemis/s.*': 'HAEC reference measurement [W]',\n",
    "    'artemis/watts': 'LMG reference measurement [W]',\n",
    "    'bogda/watts': 'LMG reference measurement [W]',\n",
    "    'localhost/watts': 'LMG reference measurement [W]',\n",
    "    'package.*': 'RAPL package + DRAM [W]',\n",
    "    'x86_energy/.*/P': 'RAPL package + DRAM [W]',\n",
    "    'x86_energy/P': 'RAPL package [W]',\n",
    "    '.* RAPL PCKG': 'RAPL package [W]',\n",
    "    '.* RAPL DRAM': 'RAPL dram [W]',\n",
    "    '.* RAPL SINGLE_CORE': 'RAPL sum core [W]',\n",
    "    '.* RAPL *': 'RAPL sum total [W]',\n",
    "    'elab.ariel.power': 'LMG 450 AC reference measurement [W]',\n",
    "    'elab.charon.power': 'LMG 450 AC reference measurement [W]',\n",
    "    'elab.ariel.s.*': 'LMG 670 DC reference measurement [W]',\n",
    "    'elab.ariel.s..package.power*': 'LMG 670 DC package reference measurement [W]',\n",
    "    'elab.ariel.s..dram.power*': 'LMG 670 DC DRAM reference measurement [W]',\n",
    "}\n",
    "pattern_x_widget = widgets.Dropdown(options=tuple(power_patterns.keys()))\n",
    "pattern_y_widget = widgets.Dropdown(options=tuple(power_patterns.keys()))\n",
    "\n",
    "def update_filename(*args):\n",
    "    tmp = pd.read_csv(filename_widget.value, sep='\\t', quotechar=\"'\")\n",
    "    opt = tuple(filter(lambda pattern: len(tmp.filter(regex=pattern).columns) > 0, power_patterns.keys()))\n",
    "    pattern_x_widget.options = opt\n",
    "    pattern_y_widget.options = opt\n",
    "    \n",
    "filename_widget.observe(update_filename, 'value')\n",
    "update_filename()\n",
    "\n",
    "label_x = None\n",
    "label_y = None\n",
    "def read_phase_profile(filename, pattern_x, pattern_y):\n",
    "    global experiments, label_x, label_y, experiment_basename\n",
    "    experiments = pd.read_csv(filename, sep='\\t', quotechar=\"'\")\n",
    "    experiment_basename = os.path.splitext(os.path.basename(filename))[0]\n",
    "    printmd(\"### Number of experiments in {}: {}\".format(experiment_basename, len(experiments)))\n",
    "        \n",
    "    label_x = power_patterns[pattern_x]\n",
    "    label_y = power_patterns[pattern_y]\n",
    "    power_x_columns = experiments.filter(regex=pattern_x)\n",
    "    power_y_columns = experiments.filter(regex=pattern_y)\n",
    "    printmd(\"### Using X-{} power metrics: {} [{}]\" \\\n",
    "            .format(label_x, pattern_x, ', '.join(power_x_columns.columns.values)))\n",
    "    printmd(\"### Using Y-{} power metrics: {} [{}]\" \\\n",
    "            .format(label_y, pattern_y, ', '.join(power_y_columns.columns.values)))\n",
    "\n",
    "    if experiments.experiment.max() == 42:\n",
    "        experiments['kernel'] = experiments.experiment.apply(old_kernel)\n",
    "    else:\n",
    "        experiments['kernel'] = experiments.experiment.apply(Kernel)\n",
    "        \n",
    "    experiments['power_x'] = power_x_columns.sum(1)\n",
    "    experiments['power_y'] = power_y_columns.sum(1)\n",
    "    #experiments['power_x'] = (experiments['x86_energy/PACKAGE0/P'] + experiments['x86_energy/PACKAGE1/P'] + 0.25 * (experiments['x86_energy/DRAM0/P'] + experiments['x86_energy/DRAM1/P']) ) /1000\n",
    "    experiments['frequency_mhz'] = (experiments['frequency'] / 1e6).astype(int)\n",
    "    \n",
    "    printmd('### Experiment duration: {:.1f} s'.format((experiments.end - experiments.begin).mean() / 1e12))\n",
    "    \n",
    "    printmd('### Kernels:')\n",
    "    printmd('\\n'.join([' * {}'.format(x) for x in experiments.kernel.unique()]))\n",
    "\n",
    "    printmd('### Frequencies:')\n",
    "    printmd('\\n'.join([' * {}'.format(x) for x in experiments.frequency_mhz.unique()]))\n",
    "    \n",
    "    printmd('### Thread counts:')\n",
    "    printmd('\\n'.join([' * {}'.format(x) for x in experiments.thread_count.unique()]))\n",
    "        \n",
    "\n",
    "i = interact(read_phase_profile, filename=filename_widget,\n",
    "             pattern_x=pattern_x_widget, pattern_y=pattern_y_widget)"
   ]
  },
  {
   "cell_type": "code",
   "execution_count": 17,
   "metadata": {
    "scrolled": false
   },
   "outputs": [
    {
     "data": {
      "image/png": "[encoded data removed]",
      "text/plain": [
       "<Figure size 576x288 with 1 Axes>"
      ]
     },
     "metadata": {
      "needs_background": "light"
     },
     "output_type": "display_data"
    }
   ],
   "source": [
    "for kernel, k_group in experiments.groupby('kernel'):\n",
    "    plt.plot(k_group.power_x, k_group.power_y, color=kernel.color, marker=kernel.marker, ls='', label=kernel.name)\n",
    "    \n",
    "x_min, x_max = plt.gca().get_xlim()\n",
    "x_plot = np.linspace(x_min, x_max, 100)\n",
    "\n",
    "#plt.plot(x_plot, model.predict(x_plot.reshape(-1,1)), ls=':', color='black', label='{} fit'.format(model_name))\n",
    "plt.xlabel(label_x)\n",
    "plt.ylabel(label_y)\n",
    "plot.ideal(x_max, ls='-', color='gray', label='identity')\n",
    "\n",
    "plt.gca().set_xlim(xmin=0)\n",
    "plt.gca().set_ylim(ymin=0)\n",
    "plt.legend(loc='best', numpoints=1, ncol=2)\n",
    "\n",
    "plot.make_pdf(experiment_basename)\n",
    "\n",
    "plt.show()"
   ]
  },
  {
   "cell_type": "code",
   "execution_count": null,
   "metadata": {},
   "outputs": [],
   "source": []
  }
 ],
 "metadata": {
  "kernelspec": {
   "display_name": "Python 3",
   "language": "python",
   "name": "python3"
  },
  "language_info": {
   "codemirror_mode": {
    "name": "ipython",
    "version": 3
   },
   "file_extension": ".py",
   "mimetype": "text/x-python",
   "name": "python",
   "nbconvert_exporter": "python",
   "pygments_lexer": "ipython3",
   "version": "3.7.3"
  },
  "pycharm": {
   "stem_cell": {
    "cell_type": "raw",
    "metadata": {
     "collapsed": false
    },
    "source": []
   }
  },
  "widgets": {
   "state": {
    "56fbe931f180499687d1325f12002e74": {
     "views": [
      {
       "cell_index": 3
      }
     ]
    },
    "b098bdd995d14d59b50ec5f846c4ab21": {
     "views": [
      {
       "cell_index": 4
      }
     ]
    }
   },
   "version": "1.2.0"
  }
 },
 "nbformat": 4,
 "nbformat_minor": 1
}
